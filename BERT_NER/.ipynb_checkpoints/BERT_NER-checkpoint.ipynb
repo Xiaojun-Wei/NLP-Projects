{
 "cells": [
  {
   "cell_type": "code",
   "execution_count": 1,
   "id": "e3e38a51",
   "metadata": {},
   "outputs": [],
   "source": [
    "from transformers import BertTokenizer, DataCollatorForTokenClassification\n",
    "from torch.utils.data import DataLoader, Dataset \n",
    "import pandas as pd\n",
    "import numpy as no\n",
    "import datasets"
   ]
  },
  {
   "cell_type": "markdown",
   "id": "36b30350",
   "metadata": {},
   "source": [
    "## 1- 数据加载"
   ]
  },
  {
   "cell_type": "code",
   "execution_count": 2,
   "id": "ff1e6fad",
   "metadata": {},
   "outputs": [],
   "source": [
    "# 数据来源：CLUENER 细粒度命名实体识别 https://github.com/CLUEbenchmark/CLUENER2020"
   ]
  },
  {
   "cell_type": "code",
   "execution_count": 3,
   "id": "400dd131",
   "metadata": {},
   "outputs": [],
   "source": [
    "datadir = \"./data/cluener_public/\"\n",
    "\n",
    "train_path = datadir + \"train.json\"\n",
    "val_path = datadir + \"dev.json\"\n",
    "\n",
    "dftrain = pd.read_json(train_path, lines = True)\n",
    "dfval = pd.read_json(val_path, lines = True)\n",
    "\n",
    "entities = ['address','book','company','game','government','movie',\n",
    "              'name','organization','position','scene']\n",
    "\n",
    "label_names = ['O'] + ['B-'+x for x in entities] + ['I-'+x for x in entities]\n",
    "\n",
    "id2label = {i:label for i, label in enumerate(label_names)}\n",
    "label2id = {v:k for k,v in id2label.items()}"
   ]
  },
  {
   "cell_type": "code",
   "execution_count": 4,
   "id": "c609633b",
   "metadata": {},
   "outputs": [
    {
     "name": "stdout",
     "output_type": "stream",
     "text": [
      "主要属于结构性理财产品。上周交通银行发行了“天添利”系列理财产品，投资者在封闭期申购该系列理财产品，\n",
      "{'company': {'交通银行': [[14, 17]]}}\n"
     ]
    }
   ],
   "source": [
    "text = dftrain[\"text\"][10]\n",
    "label = dftrain[\"label\"][10]\n",
    "\n",
    "print(text)\n",
    "print(label)"
   ]
  },
  {
   "cell_type": "markdown",
   "id": "810434e6",
   "metadata": {},
   "source": [
    "## 2-文本分词"
   ]
  },
  {
   "cell_type": "code",
   "execution_count": 5,
   "id": "0cc73abb",
   "metadata": {},
   "outputs": [],
   "source": [
    "model_name = 'bert-base-chinese'\n",
    "tokenizer = BertTokenizer.from_pretrained(model_name)"
   ]
  },
  {
   "cell_type": "code",
   "execution_count": 6,
   "id": "3fb2f038",
   "metadata": {},
   "outputs": [
    {
     "name": "stdout",
     "output_type": "stream",
     "text": [
      "[101, 712, 6206, 2247, 754, 5310, 3354, 2595, 4415, 6568, 772, 1501, 511, 677, 1453, 769, 6858, 7213, 6121, 1355, 6121, 749, 100, 1921, 3924, 1164, 100, 5143, 1154, 4415, 6568, 772, 1501, 8024, 2832, 6598, 5442, 1762, 2196, 7308, 3309, 4509, 6579, 6421, 5143, 1154, 4415, 6568, 772, 1501, 8024, 102]\n"
     ]
    }
   ],
   "source": [
    "tokenized_input =  tokenizer(text)\n",
    "print(tokenized_input[\"input_ids\"])"
   ]
  },
  {
   "cell_type": "code",
   "execution_count": 9,
   "id": "71eaa4b2",
   "metadata": {},
   "outputs": [
    {
     "name": "stdout",
     "output_type": "stream",
     "text": [
      "[CLS]\n",
      "主\n",
      "要\n",
      "属\n",
      "于\n",
      "结\n",
      "构\n",
      "性\n",
      "理\n",
      "财\n",
      "产\n",
      "品\n",
      "。\n",
      "上\n",
      "周\n",
      "交\n",
      "通\n",
      "银\n",
      "行\n",
      "发\n",
      "行\n",
      "了\n",
      "[UNK]\n",
      "天\n",
      "添\n",
      "利\n",
      "[UNK]\n",
      "系\n",
      "列\n",
      "理\n",
      "财\n",
      "产\n",
      "品\n",
      "，\n",
      "投\n",
      "资\n",
      "者\n",
      "在\n",
      "封\n",
      "闭\n",
      "期\n",
      "申\n",
      "购\n",
      "该\n",
      "系\n",
      "列\n",
      "理\n",
      "财\n",
      "产\n",
      "品\n",
      "，\n",
      "[SEP]\n"
     ]
    }
   ],
   "source": [
    "# 可以从每个id还原每个token对应的字符组合\n",
    "tokens = tokenizer.convert_ids_to_tokens(tokenized_input[\"input_ids\"])\n",
    "for t in tokens:\n",
    "    print(t)"
   ]
  },
  {
   "cell_type": "markdown",
   "id": "10f21b19",
   "metadata": {},
   "source": [
    "## 3- 标签对齐\n",
    "#### 给特殊字符/未在词典中的token赋予正确的label\n",
    "#### 1. 把原始的dict形式的label转换成字符级别的char_label\n",
    "#### 2. 再将char_label对齐到token_label"
   ]
  },
  {
   "cell_type": "code",
   "execution_count": 16,
   "id": "e23d1375",
   "metadata": {},
   "outputs": [],
   "source": [
    "# 把label格式转化成字符级别的char_label\n",
    "def get_char_label(text, label):\n",
    "    char_label = ['0' for x in text]\n",
    "    for tp, dic in label.items():\n",
    "        for word, idxs in dic.items():\n",
    "            idx_start = idxs[0][0]\n",
    "            idx_end = idxs[0][1]\n",
    "            char_label[idx_start] = 'B-'+tp\n",
    "            char_label[idx_start+1:idx_end+1] = ['I-'+tp for x in range(idx_start+1,idx_end+1)]\n",
    "    return char_label"
   ]
  },
  {
   "cell_type": "code",
   "execution_count": 17,
   "id": "6a9f5608",
   "metadata": {},
   "outputs": [
    {
     "name": "stdout",
     "output_type": "stream",
     "text": [
      "主\t0\n",
      "要\t0\n",
      "属\t0\n",
      "于\t0\n",
      "结\t0\n",
      "构\t0\n",
      "性\t0\n",
      "理\t0\n",
      "财\t0\n",
      "产\t0\n",
      "品\t0\n",
      "。\t0\n",
      "上\t0\n",
      "周\t0\n",
      "交\tB-company\n",
      "通\tI-company\n",
      "银\tI-company\n",
      "行\tI-company\n",
      "发\t0\n",
      "行\t0\n",
      "了\t0\n",
      "“\t0\n",
      "天\t0\n",
      "添\t0\n",
      "利\t0\n",
      "”\t0\n",
      "系\t0\n",
      "列\t0\n",
      "理\t0\n",
      "财\t0\n",
      "产\t0\n",
      "品\t0\n",
      "，\t0\n",
      "投\t0\n",
      "资\t0\n",
      "者\t0\n",
      "在\t0\n",
      "封\t0\n",
      "闭\t0\n",
      "期\t0\n",
      "申\t0\n",
      "购\t0\n",
      "该\t0\n",
      "系\t0\n",
      "列\t0\n",
      "理\t0\n",
      "财\t0\n",
      "产\t0\n",
      "品\t0\n",
      "，\t0\n"
     ]
    }
   ],
   "source": [
    "char_label = get_char_label(text, label)\n",
    "for char, char_tp in zip(text, char_label):\n",
    "    print(char+'\\t'+char_tp)"
   ]
  },
  {
   "cell_type": "code",
   "execution_count": 18,
   "id": "aaad4a96",
   "metadata": {},
   "outputs": [],
   "source": [
    "def get_token_label(text, char_label, tokenizer):\n",
    "    tokenized_input = tokenizer(text)\n",
    "    tokens = tokenizer.convert_ids_to_tokens(tokenized_input[\"input_ids\"])\n",
    "    \n",
    "    iter_tokens = iter(tokens)\n",
    "    iter_char_label = iter(char_label)  \n",
    "    iter_text = iter(text.lower()) \n",
    "\n",
    "    token_labels = []\n",
    "\n",
    "    t = next(iter_tokens)\n",
    "    char = next(iter_text)\n",
    "    char_tp = next(iter_char_label)\n",
    "\n",
    "    while True:\n",
    "        #单个字符token(如汉字)直接赋给对应字符token\n",
    "        if len(t)==1:\n",
    "            assert t==char\n",
    "            token_labels.append(char_tp)   \n",
    "            try:\n",
    "                char = next(iter_text)\n",
    "                char_tp = next(iter_char_label)\n",
    "            except StopIteration:\n",
    "                pass  \n",
    "\n",
    "        #添加的特殊token如[CLS],[SEP],排除[UNK]\n",
    "        elif t in tokenizer.special_tokens_map.values() and t!='[UNK]':\n",
    "            token_labels.append('O')              \n",
    "\n",
    "\n",
    "        elif t=='[UNK]':\n",
    "            token_labels.append(char_tp) \n",
    "            #重新对齐\n",
    "            try:\n",
    "                t = next(iter_tokens)\n",
    "            except StopIteration:\n",
    "                break \n",
    "\n",
    "            if t not in tokenizer.special_tokens_map.values():\n",
    "                while char!=t[0]:\n",
    "                    try:\n",
    "                        char = next(iter_text)\n",
    "                        char_tp = next(iter_char_label)\n",
    "                    except StopIteration:\n",
    "                        pass    \n",
    "            continue\n",
    "\n",
    "        #其它长度大于1的token，如英文token\n",
    "        else:\n",
    "            t_label = char_tp\n",
    "            t = t.replace('##','') #移除因为subword引入的'##'符号\n",
    "            for c in t:\n",
    "                assert c==char or char not in tokenizer.vocab\n",
    "                if t_label!='O':\n",
    "                    t_label=char_tp\n",
    "                try:\n",
    "                    char = next(iter_text)\n",
    "                    char_tp = next(iter_char_label)\n",
    "                except StopIteration:\n",
    "                    pass    \n",
    "            token_labels.append(t_label) \n",
    "\n",
    "        try:\n",
    "            t = next(iter_tokens)\n",
    "        except StopIteration:\n",
    "            break  \n",
    "            \n",
    "    assert len(token_labels)==len(tokens)\n",
    "    return token_labels \n",
    "    "
   ]
  },
  {
   "cell_type": "code",
   "execution_count": 19,
   "id": "6b0dcf67",
   "metadata": {},
   "outputs": [
    {
     "name": "stdout",
     "output_type": "stream",
     "text": [
      "[CLS] \t O\n",
      "主 \t 0\n",
      "要 \t 0\n",
      "属 \t 0\n",
      "于 \t 0\n",
      "结 \t 0\n",
      "构 \t 0\n",
      "性 \t 0\n",
      "理 \t 0\n",
      "财 \t 0\n",
      "产 \t 0\n",
      "品 \t 0\n",
      "。 \t 0\n",
      "上 \t 0\n",
      "周 \t 0\n",
      "交 \t B-company\n",
      "通 \t I-company\n",
      "银 \t I-company\n",
      "行 \t I-company\n",
      "发 \t 0\n",
      "行 \t 0\n",
      "了 \t 0\n",
      "[UNK] \t 0\n",
      "天 \t 0\n",
      "添 \t 0\n",
      "利 \t 0\n",
      "[UNK] \t 0\n",
      "系 \t 0\n",
      "列 \t 0\n",
      "理 \t 0\n",
      "财 \t 0\n",
      "产 \t 0\n",
      "品 \t 0\n",
      "， \t 0\n",
      "投 \t 0\n",
      "资 \t 0\n",
      "者 \t 0\n",
      "在 \t 0\n",
      "封 \t 0\n",
      "闭 \t 0\n",
      "期 \t 0\n",
      "申 \t 0\n",
      "购 \t 0\n",
      "该 \t 0\n",
      "系 \t 0\n",
      "列 \t 0\n",
      "理 \t 0\n",
      "财 \t 0\n",
      "产 \t 0\n",
      "品 \t 0\n",
      "， \t 0\n",
      "[SEP] \t O\n"
     ]
    }
   ],
   "source": [
    "token_labels = get_token_label(text, char_label, tokenizer)\n",
    "for t, t_label in zip(tokens, token_labels):\n",
    "    print(t, '\\t', t_label)"
   ]
  },
  {
   "cell_type": "markdown",
   "id": "f5748a35",
   "metadata": {},
   "source": [
    "## 4-构建管道"
   ]
  },
  {
   "cell_type": "code",
   "execution_count": 20,
   "id": "317f5548",
   "metadata": {},
   "outputs": [
    {
     "data": {
      "text/html": [
       "<div>\n",
       "<style scoped>\n",
       "    .dataframe tbody tr th:only-of-type {\n",
       "        vertical-align: middle;\n",
       "    }\n",
       "\n",
       "    .dataframe tbody tr th {\n",
       "        vertical-align: top;\n",
       "    }\n",
       "\n",
       "    .dataframe thead th {\n",
       "        text-align: right;\n",
       "    }\n",
       "</style>\n",
       "<table border=\"1\" class=\"dataframe\">\n",
       "  <thead>\n",
       "    <tr style=\"text-align: right;\">\n",
       "      <th></th>\n",
       "      <th>text</th>\n",
       "      <th>label</th>\n",
       "    </tr>\n",
       "  </thead>\n",
       "  <tbody>\n",
       "    <tr>\n",
       "      <th>0</th>\n",
       "      <td>浙商银行企业信贷部叶老桂博士则从另一个角度对五道门槛进行了解读。叶老桂认为，对目前国内商业银...</td>\n",
       "      <td>{'name': {'叶老桂': [[9, 11]]}, 'company': {'浙商银行...</td>\n",
       "    </tr>\n",
       "    <tr>\n",
       "      <th>1</th>\n",
       "      <td>生生不息CSOL生化狂潮让你填弹狂扫</td>\n",
       "      <td>{'game': {'CSOL': [[4, 7]]}}</td>\n",
       "    </tr>\n",
       "    <tr>\n",
       "      <th>2</th>\n",
       "      <td>那不勒斯vs锡耶纳以及桑普vs热那亚之上呢？</td>\n",
       "      <td>{'organization': {'那不勒斯': [[0, 3]], '锡耶纳': [[6...</td>\n",
       "    </tr>\n",
       "    <tr>\n",
       "      <th>3</th>\n",
       "      <td>加勒比海盗3：世界尽头》的去年同期成绩死死甩在身后，后者则即将赶超《变形金刚》，</td>\n",
       "      <td>{'movie': {'加勒比海盗3：世界尽头》': [[0, 11]], '《变形金刚》'...</td>\n",
       "    </tr>\n",
       "    <tr>\n",
       "      <th>4</th>\n",
       "      <td>布鲁京斯研究所桑顿中国中心研究部主任李成说，东亚的和平与安全，是美国的“核心利益”之一。</td>\n",
       "      <td>{'address': {'美国': [[32, 33]]}, 'organization'...</td>\n",
       "    </tr>\n",
       "  </tbody>\n",
       "</table>\n",
       "</div>"
      ],
      "text/plain": [
       "                                                text  \\\n",
       "0  浙商银行企业信贷部叶老桂博士则从另一个角度对五道门槛进行了解读。叶老桂认为，对目前国内商业银...   \n",
       "1                                 生生不息CSOL生化狂潮让你填弹狂扫   \n",
       "2                             那不勒斯vs锡耶纳以及桑普vs热那亚之上呢？   \n",
       "3           加勒比海盗3：世界尽头》的去年同期成绩死死甩在身后，后者则即将赶超《变形金刚》，   \n",
       "4       布鲁京斯研究所桑顿中国中心研究部主任李成说，东亚的和平与安全，是美国的“核心利益”之一。   \n",
       "\n",
       "                                               label  \n",
       "0  {'name': {'叶老桂': [[9, 11]]}, 'company': {'浙商银行...  \n",
       "1                       {'game': {'CSOL': [[4, 7]]}}  \n",
       "2  {'organization': {'那不勒斯': [[0, 3]], '锡耶纳': [[6...  \n",
       "3  {'movie': {'加勒比海盗3：世界尽头》': [[0, 11]], '《变形金刚》'...  \n",
       "4  {'address': {'美国': [[32, 33]]}, 'organization'...  "
      ]
     },
     "execution_count": 20,
     "metadata": {},
     "output_type": "execute_result"
    }
   ],
   "source": [
    "dftrain.head()"
   ]
  },
  {
   "cell_type": "code",
   "execution_count": null,
   "id": "09480d59",
   "metadata": {},
   "outputs": [],
   "source": []
  }
 ],
 "metadata": {
  "kernelspec": {
   "display_name": "cs224n",
   "language": "python",
   "name": "cs224n"
  },
  "language_info": {
   "codemirror_mode": {
    "name": "ipython",
    "version": 3
   },
   "file_extension": ".py",
   "mimetype": "text/x-python",
   "name": "python",
   "nbconvert_exporter": "python",
   "pygments_lexer": "ipython3",
   "version": "3.7.7"
  }
 },
 "nbformat": 4,
 "nbformat_minor": 5
}
