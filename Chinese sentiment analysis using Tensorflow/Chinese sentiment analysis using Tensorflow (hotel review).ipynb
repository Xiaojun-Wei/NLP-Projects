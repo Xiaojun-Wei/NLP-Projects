{
 "cells": [
  {
   "cell_type": "code",
   "execution_count": 5,
   "metadata": {
    "collapsed": true
   },
   "outputs": [],
   "source": [
    "%matplotlib inline\n",
    "import numpy as np\n",
    "import matplotlib.pyplot as plt\n",
    "import re\n",
    "import jieba  # for tokenization\n",
    "from gensim.models import KeyedVectors  # for training word vector\n",
    "import warnings\n",
    "warnings.filterwarnings(\"ignore\")\n",
    "import bz2  # for unpacking"
   ]
  },
  {
   "cell_type": "code",
   "execution_count": 13,
   "outputs": [],
   "source": [
    "# decompress word vector\n",
    "with open(\"用Tensorflow进行中文自然语言处理分类实践/sgns.zhihu.bigram\", 'wb') as new_file, \\\n",
    "        open(\"用Tensorflow进行中文自然语言处理分类实践/sgns_zhihu_bigram_bz2\", 'rb') as file:\n",
    "    decompressor = bz2.BZ2Decompressor()\n",
    "    for data in iter(lambda : file.read(100 * 1024), b''):\n",
    "        new_file.write(decompressor.decompress(data))"
   ],
   "metadata": {
    "collapsed": false,
    "pycharm": {
     "name": "#%%\n"
    }
   }
  },
  {
   "cell_type": "code",
   "execution_count": 15,
   "outputs": [],
   "source": [
    "# use gensim to load the pretrained word embedding\n",
    "cn_model = KeyedVectors.load_word2vec_format('用Tensorflow进行中文自然语言处理分类实践/sgns.zhihu.bigram',\n",
    "                                             binary=False, unicode_errors=\"ignore\")"
   ],
   "metadata": {
    "collapsed": false,
    "pycharm": {
     "name": "#%%\n"
    }
   }
  },
  {
   "cell_type": "code",
   "execution_count": 16,
   "outputs": [
    {
     "name": "stdout",
     "output_type": "stream",
     "text": [
      "词向量的长度为300\n"
     ]
    },
    {
     "data": {
      "text/plain": "array([-2.603470e-01,  3.677500e-01, -2.379650e-01,  5.301700e-02,\n       -3.628220e-01, -3.212010e-01, -1.903330e-01,  1.587220e-01,\n       -7.156200e-02, -4.625400e-02, -1.137860e-01,  3.515600e-01,\n       -6.408200e-02, -2.184840e-01,  3.286950e-01, -7.110330e-01,\n        1.620320e-01,  1.627490e-01,  5.528180e-01,  1.016860e-01,\n        1.060080e-01,  7.820700e-01, -7.537310e-01, -2.108400e-02,\n       -4.758250e-01, -1.130420e-01, -2.053000e-01,  6.624390e-01,\n        2.435850e-01,  9.171890e-01, -2.090610e-01, -5.290000e-02,\n       -7.969340e-01,  2.394940e-01, -9.028100e-02,  1.537360e-01,\n       -4.003980e-01, -2.456100e-02, -1.717860e-01,  2.037790e-01,\n       -4.344710e-01, -3.850430e-01, -9.366000e-02,  3.775310e-01,\n        2.659690e-01,  8.879800e-02,  2.493440e-01,  4.914900e-02,\n        5.996000e-03,  3.586430e-01, -1.044960e-01, -5.838460e-01,\n        3.093280e-01, -2.828090e-01, -8.563400e-02, -5.745400e-02,\n       -2.075230e-01,  2.845980e-01,  1.414760e-01,  1.678570e-01,\n        1.957560e-01,  7.782140e-01, -2.359000e-01, -6.833100e-02,\n        2.560170e-01, -6.906900e-02, -1.219620e-01,  2.683020e-01,\n        1.678810e-01,  2.068910e-01,  1.987520e-01,  6.720900e-02,\n       -3.975290e-01, -7.123140e-01,  5.613200e-02,  2.586000e-03,\n        5.616910e-01,  1.157000e-03, -4.341190e-01,  1.977480e-01,\n        2.519540e-01,  8.835000e-03, -3.554600e-01, -1.573500e-02,\n       -2.526010e-01,  9.355900e-02, -3.962500e-02, -1.628350e-01,\n        2.980950e-01,  1.647900e-01, -5.454270e-01,  3.888790e-01,\n        1.446840e-01, -7.239600e-02, -7.597800e-02, -7.803000e-03,\n        2.020520e-01, -4.424750e-01,  3.911580e-01,  2.115100e-01,\n        6.516760e-01,  5.668030e-01,  5.065500e-02, -1.259650e-01,\n       -3.720640e-01,  2.330470e-01,  6.659900e-02,  8.300600e-02,\n        2.540460e-01, -5.279760e-01, -3.843280e-01,  3.366460e-01,\n        2.336500e-01,  3.564750e-01, -4.884160e-01, -1.183910e-01,\n        1.365910e-01,  2.293420e-01, -6.151930e-01,  5.212050e-01,\n        3.412000e-01,  5.757940e-01,  2.354480e-01, -3.641530e-01,\n        7.373400e-02,  1.007380e-01, -3.211410e-01, -3.040480e-01,\n       -3.738440e-01, -2.515150e-01,  2.633890e-01,  3.995490e-01,\n        4.461880e-01,  1.641110e-01,  1.449590e-01, -4.191540e-01,\n        2.297840e-01,  6.710600e-02,  3.316430e-01, -6.026500e-02,\n       -5.130610e-01,  1.472570e-01,  2.414060e-01,  2.011000e-03,\n       -3.823410e-01, -1.356010e-01,  3.112300e-01,  9.177830e-01,\n       -4.511630e-01,  1.272190e-01, -9.431600e-02, -8.216000e-03,\n       -3.835440e-01,  2.589400e-02,  6.374980e-01,  4.931630e-01,\n       -1.865070e-01,  4.076900e-01, -1.841000e-03,  2.213160e-01,\n        2.253950e-01, -2.159220e-01, -7.611480e-01, -2.305920e-01,\n        1.296890e-01, -1.304100e-01, -4.742270e-01,  2.275500e-02,\n        4.255050e-01,  1.570280e-01,  2.975300e-02,  1.931830e-01,\n        1.304340e-01, -3.179800e-02,  1.516650e-01, -2.154310e-01,\n       -4.681410e-01,  1.007326e+00, -6.698940e-01, -1.555240e-01,\n        1.797170e-01,  2.848660e-01,  6.216130e-01,  1.549510e-01,\n        6.225000e-02, -2.227800e-02,  2.561270e-01, -1.006380e-01,\n        2.807900e-02,  4.597710e-01, -4.077750e-01, -1.777390e-01,\n        1.920500e-02, -4.829300e-02,  4.714700e-02, -3.715200e-01,\n       -2.995930e-01, -3.719710e-01,  4.622800e-02, -1.436460e-01,\n        2.532540e-01, -9.334000e-02, -4.957400e-02, -3.803850e-01,\n        5.970110e-01,  3.578450e-01, -6.826000e-02,  4.735200e-02,\n       -3.707590e-01, -8.621300e-02, -2.556480e-01, -5.950440e-01,\n       -4.757790e-01,  1.079320e-01,  9.858300e-02,  8.540300e-01,\n        3.518370e-01, -1.306360e-01, -1.541590e-01,  1.166775e+00,\n        2.048860e-01,  5.952340e-01,  1.158830e-01,  6.774400e-02,\n        6.793920e-01, -3.610700e-01,  1.697870e-01,  4.118530e-01,\n        4.731000e-03, -7.516530e-01, -9.833700e-02, -2.312220e-01,\n       -7.043300e-02,  1.576110e-01, -4.780500e-02, -7.344390e-01,\n       -2.834330e-01,  4.582690e-01,  3.957010e-01, -8.484300e-02,\n       -3.472550e-01,  1.291660e-01,  3.838960e-01, -3.287600e-02,\n       -2.802220e-01,  5.257030e-01, -3.609300e-02, -4.842220e-01,\n        3.690700e-02,  3.429560e-01,  2.902490e-01, -1.624650e-01,\n       -7.513700e-02,  2.669300e-01,  5.778230e-01, -3.074020e-01,\n       -2.183790e-01, -2.834050e-01,  1.350870e-01,  1.490070e-01,\n        1.438400e-02, -2.509040e-01, -3.376100e-01,  1.291880e-01,\n       -3.808700e-01, -4.420520e-01, -2.512300e-01, -1.328990e-01,\n       -1.211970e-01,  2.532660e-01,  2.757050e-01, -3.382040e-01,\n        1.178070e-01,  3.860190e-01,  5.277960e-01,  4.581920e-01,\n        1.502310e-01,  1.226320e-01,  2.768540e-01, -4.502080e-01,\n       -1.992670e-01,  1.689100e-02,  1.188860e-01,  3.502440e-01,\n       -4.064770e-01,  2.610280e-01, -1.934990e-01, -1.625660e-01,\n        2.498400e-02, -1.867150e-01, -1.954400e-02, -2.281900e-01,\n       -3.417670e-01, -5.222770e-01, -9.543200e-02, -3.500350e-01,\n        2.154600e-02,  2.318040e-01,  5.395310e-01, -4.223720e-01],\n      dtype=float32)"
     },
     "execution_count": 16,
     "metadata": {},
     "output_type": "execute_result"
    }
   ],
   "source": [
    "# The length of word vector is 300\n",
    "embedding_dim = cn_model['山东大学'].shape[0]\n",
    "print('词向量的长度为{}'.format(embedding_dim))\n",
    "cn_model['山东大学']"
   ],
   "metadata": {
    "collapsed": false,
    "pycharm": {
     "name": "#%%\n"
    }
   }
  },
  {
   "cell_type": "code",
   "execution_count": 19,
   "outputs": [
    {
     "data": {
      "text/plain": "0.66128117"
     },
     "execution_count": 19,
     "metadata": {},
     "output_type": "execute_result"
    }
   ],
   "source": [
    "# calculate similarity\n",
    "cn_model.similarity('橘子', '橙子')"
   ],
   "metadata": {
    "collapsed": false,
    "pycharm": {
     "name": "#%%\n"
    }
   }
  },
  {
   "cell_type": "code",
   "execution_count": 23,
   "outputs": [
    {
     "ename": "TypeError",
     "evalue": "'KeyedVectors' object is not callable",
     "output_type": "error",
     "traceback": [
      "\u001B[0;31m---------------------------------------------------------------------------\u001B[0m",
      "\u001B[0;31mTypeError\u001B[0m                                 Traceback (most recent call last)",
      "\u001B[0;32m/var/folders/2_/pxk81_z129n1wr4wvmhwxnk40000gn/T/ipykernel_49666/1794302306.py\u001B[0m in \u001B[0;36m<module>\u001B[0;34m\u001B[0m\n\u001B[1;32m      2\u001B[0m \u001B[0;31m# dot ('橘子'/|'橘子'|, '橙子'/|'橙子'|)\u001B[0m\u001B[0;34m\u001B[0m\u001B[0;34m\u001B[0m\u001B[0;34m\u001B[0m\u001B[0m\n\u001B[1;32m      3\u001B[0m np.dot(cn_model['橘子']/np.linalg.norm(cn_model['橘子']),\n\u001B[0;32m----> 4\u001B[0;31m cn_model['橙子']/np.linalg.norm(cn_model(['橙子'])))\n\u001B[0m",
      "\u001B[0;31mTypeError\u001B[0m: 'KeyedVectors' object is not callable"
     ]
    }
   ],
   "source": [
    "# calculate similarity by hand\n",
    "# dot ('橘子'/|'橘子'|, '橙子'/|'橙子'|)\n",
    "np.dot(cn_model['橘子']/np.linalg.norm(cn_model['橘子']), cn_model['橙子']/np.linalg.norm(cn_model(['橙子'])))"
   ],
   "metadata": {
    "collapsed": false,
    "pycharm": {
     "name": "#%%\n"
    }
   }
  },
  {
   "cell_type": "code",
   "execution_count": 18,
   "outputs": [
    {
     "data": {
      "text/plain": "[('高中', 0.724782407283783),\n ('本科', 0.6768534779548645),\n ('研究生', 0.6244412064552307),\n ('中学', 0.6088204383850098),\n ('大学本科', 0.5959085822105408),\n ('初中', 0.5883589386940002),\n ('读研', 0.5778335928916931),\n ('职高', 0.5767995715141296),\n ('大学毕业', 0.5767451524734497),\n ('师范大学', 0.5708828568458557)]"
     },
     "execution_count": 18,
     "metadata": {},
     "output_type": "execute_result"
    }
   ],
   "source": [
    "# find most similar words using cosine similarity\n",
    "cn_model.most_similar(positive=['大学'],topn=10)"
   ],
   "metadata": {
    "collapsed": false,
    "pycharm": {
     "name": "#%%\n"
    }
   }
  },
  {
   "cell_type": "code",
   "execution_count": 24,
   "outputs": [
    {
     "name": "stdout",
     "output_type": "stream",
     "text": [
      "不是一类的词为 老人\n"
     ]
    }
   ],
   "source": [
    "# find distinct word\n",
    "test_words = '老师 会计师 程序员 律师 医生 老人'\n",
    "test_words_result = cn_model.doesnt_match(test_words.split())\n",
    "print('不是一类的词为 '+test_words_result)"
   ],
   "metadata": {
    "collapsed": false,
    "pycharm": {
     "name": "#%%\n"
    }
   }
  },
  {
   "cell_type": "code",
   "execution_count": 29,
   "outputs": [
    {
     "data": {
      "text/plain": "[('妙不可言', 0.43668583035469055)]"
     },
     "execution_count": 29,
     "metadata": {},
     "output_type": "execute_result"
    }
   ],
   "source": [
    "# analogy\n",
    "# cn_model.most_similar(positive=['女人','劈腿'], negative=['男人'], topn=1)\n",
    "cn_model.most_similar(positive=['语言','奇妙'], negative=['数学'],topn=1)"
   ],
   "metadata": {
    "collapsed": false,
    "pycharm": {
     "name": "#%%\n"
    }
   }
  },
  {
   "cell_type": "markdown",
   "source": [
    "### corpus source: hotel review, total: 4000 txt sample ###"
   ],
   "metadata": {
    "collapsed": false,
    "pycharm": {
     "name": "#%% md\n"
    }
   }
  },
  {
   "cell_type": "code",
   "execution_count": 37,
   "outputs": [],
   "source": [
    "import os\n",
    "pos_txts = os.listdir('用Tensorflow进行中文自然语言处理分类实践/pos')\n",
    "neg_txts = os.listdir('用Tensorflow进行中文自然语言处理分类实践/neg')"
   ],
   "metadata": {
    "collapsed": false,
    "pycharm": {
     "name": "#%%\n"
    }
   }
  },
  {
   "cell_type": "code",
   "execution_count": 40,
   "outputs": [
    {
     "name": "stdout",
     "output_type": "stream",
     "text": [
      "total sample is 4000\n"
     ]
    }
   ],
   "source": [
    "print(\"total sample is \" + str(len(pos_txts) + len(neg_txts)))"
   ],
   "metadata": {
    "collapsed": false,
    "pycharm": {
     "name": "#%%\n"
    }
   }
  },
  {
   "cell_type": "code",
   "execution_count": 43,
   "outputs": [],
   "source": [
    "# store all sample into a list\n",
    "train_texts_orig = []\n",
    "\n",
    "train_target = []\n",
    "with open(\"用Tensorflow进行中文自然语言处理分类实践/positive_samples.txt\", \"r\", encoding=\"utf-8\") as f:\n",
    "    lines = f.readlines()\n",
    "    for line in lines:\n",
    "        dic = eval(line)\n",
    "        train_texts_orig.append(dic[\"text\"])\n",
    "        train_target.append(dic[\"label\"])\n",
    "\n",
    "with open(\"用Tensorflow进行中文自然语言处理分类实践/negative_samples.txt\", \"r\", encoding=\"utf-8\") as f:\n",
    "    lines = f.readlines()\n",
    "    for line in lines:\n",
    "        dic = eval(line)\n",
    "        train_texts_orig.append(dic[\"text\"])\n",
    "        train_target.append(dic[\"label\"])"
   ],
   "metadata": {
    "collapsed": false,
    "pycharm": {
     "name": "#%%\n"
    }
   }
  },
  {
   "cell_type": "markdown",
   "source": [],
   "metadata": {
    "collapsed": false,
    "pycharm": {
     "name": "#%% md\n"
    }
   }
  },
  {
   "cell_type": "markdown",
   "source": [],
   "metadata": {
    "collapsed": false
   }
  },
  {
   "cell_type": "code",
   "execution_count": 44,
   "outputs": [
    {
     "data": {
      "text/plain": "4000"
     },
     "execution_count": 44,
     "metadata": {},
     "output_type": "execute_result"
    }
   ],
   "source": [
    "len(train_texts_orig)"
   ],
   "metadata": {
    "collapsed": false,
    "pycharm": {
     "name": "#%%\n"
    }
   }
  },
  {
   "cell_type": "code",
   "execution_count": 77,
   "outputs": [],
   "source": [
    "# use keras to build the model\n",
    "from tensorflow.python.keras.models import Sequential\n",
    "from tensorflow.python.keras.layers import Dense, GRU, Embedding, LSTM, Bidirectional\n",
    "from tensorflow.python.keras.preprocessing.text import Tokenizer\n",
    "from tensorflow.python.keras.preprocessing.sequence import pad_sequences\n",
    "from tensorflow.python.keras.optimizers import RMSprop\n",
    "from tensorflow.python.keras.optimizers import Adam\n",
    "from tensorflow.python.keras.callbacks import EarlyStopping, ModelCheckpoint, TensorBoard, ReduceLROnPlateau"
   ],
   "metadata": {
    "collapsed": false,
    "pycharm": {
     "name": "#%%\n"
    }
   }
  },
  {
   "cell_type": "code",
   "execution_count": 47,
   "outputs": [],
   "source": [
    "# tokenization\n",
    "train_tokens = []\n",
    "for text in train_texts_orig:\n",
    "    # remove punctuation\n",
    "    text = re.sub(\"[\\s+\\.\\!\\/_,$%^*(+\\\"\\']+|[+——！，。？、~@#￥%……&*（）]+\", \"\",text)\n",
    "    # tokenize\n",
    "    cut = jieba.cut(text)\n",
    "    # the output is a generator\n",
    "    # convert generator to list\n",
    "    cut_list = [ i for i in cut ]\n",
    "    for i, word in enumerate(cut_list):\n",
    "        try:\n",
    "            # convert word to index\n",
    "            cut_list[i] = cn_model.key_to_index[word]\n",
    "        except KeyError:\n",
    "            # if word not in dict, return 0\n",
    "            cut_list[i] = 0\n",
    "    train_tokens.append(cut_list)"
   ],
   "metadata": {
    "collapsed": false,
    "pycharm": {
     "name": "#%%\n"
    }
   }
  },
  {
   "cell_type": "markdown",
   "source": [
    "**normalize the index cuz the length of every review is different**"
   ],
   "metadata": {
    "collapsed": false,
    "pycharm": {
     "name": "#%% md\n"
    }
   }
  },
  {
   "cell_type": "code",
   "execution_count": 50,
   "outputs": [],
   "source": [
    "# length of all tokens\n",
    "num_tokens = [ len(tokens) for tokens in train_tokens ]\n",
    "num_tokens = np.array(num_tokens)"
   ],
   "metadata": {
    "collapsed": false,
    "pycharm": {
     "name": "#%%\n"
    }
   }
  },
  {
   "cell_type": "code",
   "execution_count": 51,
   "outputs": [
    {
     "data": {
      "text/plain": "71.42575"
     },
     "execution_count": 51,
     "metadata": {},
     "output_type": "execute_result"
    }
   ],
   "source": [
    "# mean of length\n",
    "np.mean(num_tokens)"
   ],
   "metadata": {
    "collapsed": false,
    "pycharm": {
     "name": "#%%\n"
    }
   }
  },
  {
   "cell_type": "code",
   "execution_count": 52,
   "outputs": [
    {
     "data": {
      "text/plain": "1540"
     },
     "execution_count": 52,
     "metadata": {},
     "output_type": "execute_result"
    }
   ],
   "source": [
    "# the max length\n",
    "np.max(num_tokens)"
   ],
   "metadata": {
    "collapsed": false,
    "pycharm": {
     "name": "#%%\n"
    }
   }
  },
  {
   "cell_type": "code",
   "execution_count": 53,
   "outputs": [
    {
     "data": {
      "text/plain": "<Figure size 432x288 with 1 Axes>",
      "image/png": "[encoded data removed]"
     },
     "metadata": {
      "needs_background": "light"
     },
     "output_type": "display_data"
    }
   ],
   "source": [
    "# the distribution of text length\n",
    "plt.hist(np.log(num_tokens), bins = 100)\n",
    "plt.xlim((0,10))\n",
    "plt.ylabel('number of tokens')\n",
    "plt.xlabel('length of tokens')\n",
    "plt.title('Distribution of tokens length')\n",
    "plt.show()"
   ],
   "metadata": {
    "collapsed": false,
    "pycharm": {
     "name": "#%%\n"
    }
   }
  },
  {
   "cell_type": "code",
   "execution_count": 54,
   "outputs": [
    {
     "data": {
      "text/plain": "236"
     },
     "execution_count": 54,
     "metadata": {},
     "output_type": "execute_result"
    }
   ],
   "source": [
    "# mean +- two stds\n",
    "max_tokens = np.mean(num_tokens) + 2 * np.std(num_tokens)\n",
    "max_tokens = int(max_tokens)\n",
    "max_tokens"
   ],
   "metadata": {
    "collapsed": false,
    "pycharm": {
     "name": "#%%\n"
    }
   }
  },
  {
   "cell_type": "code",
   "execution_count": 55,
   "outputs": [
    {
     "data": {
      "text/plain": "0.9565"
     },
     "execution_count": 55,
     "metadata": {},
     "output_type": "execute_result"
    }
   ],
   "source": [
    "# more then 95% of samples are less than 236\n",
    "np.sum( num_tokens < max_tokens ) / len(num_tokens)"
   ],
   "metadata": {
    "collapsed": false,
    "pycharm": {
     "name": "#%%\n"
    }
   }
  },
  {
   "cell_type": "code",
   "execution_count": 62,
   "outputs": [],
   "source": [
    "# convert index back to text\n",
    "def reverse_tokens(tokens):\n",
    "    text = ''\n",
    "    for i in tokens:\n",
    "        if i != 0:\n",
    "            text = text + cn_model.index_to_key[i]\n",
    "        else:\n",
    "            text = text + ' '\n",
    "    return text"
   ],
   "metadata": {
    "collapsed": false,
    "pycharm": {
     "name": "#%%\n"
    }
   }
  },
  {
   "cell_type": "code",
   "execution_count": 64,
   "outputs": [
    {
     "data": {
      "text/plain": "'早餐太差无论去多少人那边也不加食品的酒店应该重视一下这个问题了房间本身很好'"
     },
     "execution_count": 64,
     "metadata": {},
     "output_type": "execute_result"
    }
   ],
   "source": [
    "reverse = reverse_tokens(train_tokens[0])\n",
    "reverse"
   ],
   "metadata": {
    "collapsed": false,
    "pycharm": {
     "name": "#%%\n"
    }
   }
  },
  {
   "cell_type": "code",
   "execution_count": 65,
   "outputs": [
    {
     "data": {
      "text/plain": "'早餐太差，无论去多少人，那边也不加食品的。酒店应该重视一下这个问题了。\\n\\n房间本身很好。'"
     },
     "execution_count": 65,
     "metadata": {},
     "output_type": "execute_result"
    }
   ],
   "source": [
    "# the original text\n",
    "train_texts_orig[0]"
   ],
   "metadata": {
    "collapsed": false,
    "pycharm": {
     "name": "#%%\n"
    }
   }
  },
  {
   "cell_type": "code",
   "execution_count": 66,
   "outputs": [
    {
     "data": {
      "text/plain": "300"
     },
     "execution_count": 66,
     "metadata": {},
     "output_type": "execute_result"
    }
   ],
   "source": [
    "# initialize the vector\n",
    "embedding_dim"
   ],
   "metadata": {
    "collapsed": false,
    "pycharm": {
     "name": "#%%\n"
    }
   }
  },
  {
   "cell_type": "code",
   "execution_count": 68,
   "outputs": [],
   "source": [
    "\n",
    "num_words = 50000\n",
    "embedding_matrix = np.zeros((num_words, embedding_dim))\n",
    "# embedding_matrix = [num_words，embedding_dim]\n",
    "# dimention = 50000 * 300\n",
    "for i in range(num_words):\n",
    "    embedding_matrix[i, :] = cn_model[cn_model.index_to_key[i]]\n",
    "embedding_matrix = embedding_matrix.astype('float32')"
   ],
   "metadata": {
    "collapsed": false,
    "pycharm": {
     "name": "#%%\n"
    }
   }
  },
  {
   "cell_type": "code",
   "execution_count": 70,
   "outputs": [
    {
     "data": {
      "text/plain": "300"
     },
     "execution_count": 70,
     "metadata": {},
     "output_type": "execute_result"
    }
   ],
   "source": [
    "np.sum( cn_model[cn_model.index_to_key[333]] == embedding_matrix[333] )"
   ],
   "metadata": {
    "collapsed": false,
    "pycharm": {
     "name": "#%%\n"
    }
   }
  },
  {
   "cell_type": "code",
   "execution_count": 71,
   "outputs": [
    {
     "data": {
      "text/plain": "(50000, 300)"
     },
     "execution_count": 71,
     "metadata": {},
     "output_type": "execute_result"
    }
   ],
   "source": [
    "# dimension of embedding matrix\n",
    "embedding_matrix.shape"
   ],
   "metadata": {
    "collapsed": false,
    "pycharm": {
     "name": "#%%\n"
    }
   }
  },
  {
   "cell_type": "markdown",
   "source": [
    "**padding and truncating**"
   ],
   "metadata": {
    "collapsed": false,
    "pycharm": {
     "name": "#%% md\n"
    }
   }
  },
  {
   "cell_type": "code",
   "execution_count": 74,
   "outputs": [
    {
     "ename": "NameError",
     "evalue": "name 'pad_sequences' is not defined",
     "output_type": "error",
     "traceback": [
      "\u001B[0;31m---------------------------------------------------------------------------\u001B[0m",
      "\u001B[0;31mNameError\u001B[0m                                 Traceback (most recent call last)",
      "\u001B[0;32m/var/folders/2_/pxk81_z129n1wr4wvmhwxnk40000gn/T/ipykernel_49666/1334204083.py\u001B[0m in \u001B[0;36m<module>\u001B[0;34m\u001B[0m\n\u001B[1;32m      1\u001B[0m \u001B[0;31m# input: list   output: numpy array\u001B[0m\u001B[0;34m\u001B[0m\u001B[0;34m\u001B[0m\u001B[0;34m\u001B[0m\u001B[0m\n\u001B[0;32m----> 2\u001B[0;31m train_pad = pad_sequences(train_tokens, maxlen=max_tokens,\n\u001B[0m\u001B[1;32m      3\u001B[0m                             padding='pre', truncating='pre')\n",
      "\u001B[0;31mNameError\u001B[0m: name 'pad_sequences' is not defined"
     ]
    }
   ],
   "source": [
    "# input: list   output: numpy array\n",
    "train_pad = pad_sequences(train_tokens, maxlen=max_tokens,\n",
    "                            padding='pre', truncating='pre')"
   ],
   "metadata": {
    "collapsed": false,
    "pycharm": {
     "name": "#%%\n"
    }
   }
  },
  {
   "cell_type": "markdown",
   "source": [],
   "metadata": {
    "collapsed": false
   }
  },
  {
   "cell_type": "code",
   "execution_count": 75,
   "outputs": [
    {
     "ename": "NameError",
     "evalue": "name 'train_pad' is not defined",
     "output_type": "error",
     "traceback": [
      "\u001B[0;31m---------------------------------------------------------------------------\u001B[0m",
      "\u001B[0;31mNameError\u001B[0m                                 Traceback (most recent call last)",
      "\u001B[0;32m/var/folders/2_/pxk81_z129n1wr4wvmhwxnk40000gn/T/ipykernel_49666/3066697402.py\u001B[0m in \u001B[0;36m<module>\u001B[0;34m\u001B[0m\n\u001B[0;32m----> 1\u001B[0;31m \u001B[0mtrain_pad\u001B[0m\u001B[0;34m[\u001B[0m \u001B[0mtrain_pad\u001B[0m\u001B[0;34m>=\u001B[0m\u001B[0mnum_words\u001B[0m \u001B[0;34m]\u001B[0m \u001B[0;34m=\u001B[0m \u001B[0;36m0\u001B[0m\u001B[0;34m\u001B[0m\u001B[0;34m\u001B[0m\u001B[0m\n\u001B[0m",
      "\u001B[0;31mNameError\u001B[0m: name 'train_pad' is not defined"
     ]
    }
   ],
   "source": [
    "# replace the words that more than 50000 with zero\n",
    "train_pad[ train_pad>=num_words ] = 0"
   ],
   "metadata": {
    "collapsed": false,
    "pycharm": {
     "name": "#%%\n"
    }
   }
  },
  {
   "cell_type": "code",
   "execution_count": null,
   "outputs": [],
   "source": [
    "train_pad[33]"
   ],
   "metadata": {
    "collapsed": false,
    "pycharm": {
     "name": "#%%\n"
    }
   }
  },
  {
   "cell_type": "code",
   "execution_count": null,
   "outputs": [],
   "source": [
    "# the target vectors: first 2000 are 1, the rest 2000 are 0\n",
    "train_target = np.array(train_target)"
   ],
   "metadata": {
    "collapsed": false,
    "pycharm": {
     "name": "#%%\n"
    }
   }
  },
  {
   "cell_type": "code",
   "execution_count": null,
   "outputs": [],
   "source": [
    "# 进行训练和测试样本的分割\n",
    "from sklearn.model_selection import train_test_split"
   ],
   "metadata": {
    "collapsed": false,
    "pycharm": {
     "name": "#%%\n"
    }
   }
  },
  {
   "cell_type": "code",
   "execution_count": null,
   "outputs": [],
   "source": [
    "# 90% for training set, 10% for test set\n",
    "X_train, X_test, y_train, y_test = train_test_split(train_pad,\n",
    "                                                    train_target,\n",
    "                                                    test_size=0.1,\n",
    "                                                    random_state=12)"
   ],
   "metadata": {
    "collapsed": false,
    "pycharm": {
     "name": "#%%\n"
    }
   }
  },
  {
   "cell_type": "code",
   "execution_count": null,
   "outputs": [],
   "source": [
    "print(reverse_tokens(X_train[35]))\n",
    "print('class: ',y_train[35])"
   ],
   "metadata": {
    "collapsed": false,
    "pycharm": {
     "name": "#%%\n"
    }
   }
  },
  {
   "cell_type": "code",
   "execution_count": null,
   "outputs": [],
   "source": [
    "# Use LSTM model\n",
    "model = Sequential()"
   ],
   "metadata": {
    "collapsed": false,
    "pycharm": {
     "name": "#%%\n"
    }
   }
  },
  {
   "cell_type": "code",
   "execution_count": 76,
   "outputs": [
    {
     "ename": "NameError",
     "evalue": "name 'model' is not defined",
     "output_type": "error",
     "traceback": [
      "\u001B[0;31m---------------------------------------------------------------------------\u001B[0m",
      "\u001B[0;31mNameError\u001B[0m                                 Traceback (most recent call last)",
      "\u001B[0;32m/var/folders/2_/pxk81_z129n1wr4wvmhwxnk40000gn/T/ipykernel_49666/309371911.py\u001B[0m in \u001B[0;36m<module>\u001B[0;34m\u001B[0m\n\u001B[0;32m----> 1\u001B[0;31m model.add(Embedding(num_words,\n\u001B[0m\u001B[1;32m      2\u001B[0m                     \u001B[0membedding_dim\u001B[0m\u001B[0;34m,\u001B[0m\u001B[0;34m\u001B[0m\u001B[0;34m\u001B[0m\u001B[0m\n\u001B[1;32m      3\u001B[0m                     \u001B[0mweights\u001B[0m\u001B[0;34m=\u001B[0m\u001B[0;34m[\u001B[0m\u001B[0membedding_matrix\u001B[0m\u001B[0;34m]\u001B[0m\u001B[0;34m,\u001B[0m\u001B[0;34m\u001B[0m\u001B[0;34m\u001B[0m\u001B[0m\n\u001B[1;32m      4\u001B[0m                     \u001B[0minput_length\u001B[0m\u001B[0;34m=\u001B[0m\u001B[0mmax_tokens\u001B[0m\u001B[0;34m,\u001B[0m\u001B[0;34m\u001B[0m\u001B[0;34m\u001B[0m\u001B[0m\n\u001B[1;32m      5\u001B[0m                     trainable=False))\n",
      "\u001B[0;31mNameError\u001B[0m: name 'model' is not defined"
     ]
    }
   ],
   "source": [
    "model.add(Embedding(num_words,\n",
    "                    embedding_dim,\n",
    "                    weights=[embedding_matrix],\n",
    "                    input_length=max_tokens,\n",
    "                    trainable=False))"
   ],
   "metadata": {
    "collapsed": false,
    "pycharm": {
     "name": "#%%\n"
    }
   }
  },
  {
   "cell_type": "code",
   "execution_count": null,
   "outputs": [],
   "source": [
    "model.add(Bidirectional(LSTM(units=64, return_sequences=True)))\n",
    "model.add(LSTM(units=16, return_sequences=False))"
   ],
   "metadata": {
    "collapsed": false,
    "pycharm": {
     "name": "#%%\n"
    }
   }
  },
  {
   "cell_type": "code",
   "execution_count": null,
   "outputs": [],
   "source": [
    "model.add(Dense(1, activation='sigmoid'))\n",
    "optimizer = Adam(lr=1e-3)"
   ],
   "metadata": {
    "collapsed": false,
    "pycharm": {
     "name": "#%%\n"
    }
   }
  },
  {
   "cell_type": "code",
   "execution_count": 76,
   "outputs": [],
   "source": [
    "model.compile(loss='binary_crossentropy',\n",
    "              optimizer=optimizer,\n",
    "              metrics=['accuracy'])"
   ],
   "metadata": {
    "collapsed": false,
    "pycharm": {
     "name": "#%%\n"
    }
   }
  },
  {
   "cell_type": "code",
   "execution_count": 76,
   "outputs": [],
   "source": [
    "model.summary()"
   ],
   "metadata": {
    "collapsed": false,
    "pycharm": {
     "name": "#%%\n"
    }
   }
  },
  {
   "cell_type": "code",
   "execution_count": 76,
   "outputs": [],
   "source": [
    "path_checkpoint = 'sentiment_checkpoint.keras'\n",
    "checkpoint = ModelCheckpoint(filepath=path_checkpoint, monitor='val_loss',\n",
    "                                      verbose=1, save_weights_only=True,\n",
    "                                      save_best_only=True)"
   ],
   "metadata": {
    "collapsed": false,
    "pycharm": {
     "name": "#%%\n"
    }
   }
  },
  {
   "cell_type": "code",
   "execution_count": 76,
   "outputs": [],
   "source": [
    "try:\n",
    "    model.load_weights(path_checkpoint)\n",
    "except Exception as e:\n",
    "    print(e)"
   ],
   "metadata": {
    "collapsed": false,
    "pycharm": {
     "name": "#%%\n"
    }
   }
  },
  {
   "cell_type": "code",
   "execution_count": 76,
   "outputs": [],
   "source": [
    "earlystopping = EarlyStopping(monitor='val_loss', patience=5, verbose=1)"
   ],
   "metadata": {
    "collapsed": false,
    "pycharm": {
     "name": "#%%\n"
    }
   }
  },
  {
   "cell_type": "code",
   "execution_count": 76,
   "outputs": [],
   "source": [
    "lr_reduction = ReduceLROnPlateau(monitor='val_loss',\n",
    "                                       factor=0.1, min_lr=1e-8, patience=0,\n",
    "                                       verbose=1)"
   ],
   "metadata": {
    "collapsed": false,
    "pycharm": {
     "name": "#%%\n"
    }
   }
  },
  {
   "cell_type": "code",
   "execution_count": 76,
   "outputs": [],
   "source": [
    "# define callback function\n",
    "callbacks = [\n",
    "    earlystopping,\n",
    "    checkpoint,\n",
    "    lr_reduction\n",
    "]"
   ],
   "metadata": {
    "collapsed": false,
    "pycharm": {
     "name": "#%%\n"
    }
   }
  },
  {
   "cell_type": "code",
   "execution_count": 82,
   "outputs": [
    {
     "ename": "NameError",
     "evalue": "name 'model' is not defined",
     "output_type": "error",
     "traceback": [
      "\u001B[0;31m---------------------------------------------------------------------------\u001B[0m",
      "\u001B[0;31mNameError\u001B[0m                                 Traceback (most recent call last)",
      "\u001B[0;32m/var/folders/2_/pxk81_z129n1wr4wvmhwxnk40000gn/T/ipykernel_49666/1939748292.py\u001B[0m in \u001B[0;36m<module>\u001B[0;34m\u001B[0m\n\u001B[0;32m----> 1\u001B[0;31m model.fit(X_train, y_train,\n\u001B[0m\u001B[1;32m      2\u001B[0m           \u001B[0mvalidation_split\u001B[0m\u001B[0;34m=\u001B[0m\u001B[0;36m0.1\u001B[0m\u001B[0;34m,\u001B[0m\u001B[0;34m\u001B[0m\u001B[0;34m\u001B[0m\u001B[0m\n\u001B[1;32m      3\u001B[0m           \u001B[0mepochs\u001B[0m\u001B[0;34m=\u001B[0m\u001B[0;36m20\u001B[0m\u001B[0;34m,\u001B[0m\u001B[0;34m\u001B[0m\u001B[0;34m\u001B[0m\u001B[0m\n\u001B[1;32m      4\u001B[0m           \u001B[0mbatch_size\u001B[0m\u001B[0;34m=\u001B[0m\u001B[0;36m128\u001B[0m\u001B[0;34m,\u001B[0m\u001B[0;34m\u001B[0m\u001B[0;34m\u001B[0m\u001B[0m\n\u001B[1;32m      5\u001B[0m           callbacks=callbacks)\n",
      "\u001B[0;31mNameError\u001B[0m: name 'model' is not defined"
     ]
    }
   ],
   "source": [
    "model.fit(X_train, y_train,\n",
    "          validation_split=0.1,\n",
    "          epochs=20,\n",
    "          batch_size=128,\n",
    "          callbacks=callbacks)"
   ],
   "metadata": {
    "collapsed": false,
    "pycharm": {
     "name": "#%%\n"
    }
   }
  },
  {
   "cell_type": "code",
   "execution_count": 82,
   "outputs": [],
   "source": [
    "result = model.evaluate(X_test, y_test)\n",
    "print('Accuracy:{0:.2%}'.format(result[1]))"
   ],
   "metadata": {
    "collapsed": false,
    "pycharm": {
     "name": "#%%\n"
    }
   }
  },
  {
   "cell_type": "code",
   "execution_count": null,
   "outputs": [],
   "source": [
    "def predict_sentiment(text):\n",
    "    print(text)\n",
    "    text = re.sub(\"[\\s+\\.\\!\\/_,$%^*(+\\\"\\']+|[+——！，。？、~@#￥%……&*（）]+\", \"\",text)\n",
    "    cut = jieba.cut(text)\n",
    "    cut_list = [ i for i in cut ]\n",
    "    # tokenize\n",
    "    for i, word in enumerate(cut_list):\n",
    "        try:\n",
    "            cut_list[i] = cn_model.vocab[word].index\n",
    "            if cut_list[i] >= 50000:\n",
    "                cut_list[i] = 0\n",
    "        except KeyError:\n",
    "            cut_list[i] = 0\n",
    "    # padding\n",
    "    tokens_pad = pad_sequences([cut_list], maxlen=max_tokens,\n",
    "                           padding='pre', truncating='pre')\n",
    "    result = model.predict(x=tokens_pad)\n",
    "    coef = result[0][0]\n",
    "    if coef >= 0.5:\n",
    "        print('This is a positive sentiment','output=%.2f'%coef)\n",
    "    else:\n",
    "        print('This is a negative sentiment','output=%.2f'%coef)"
   ],
   "metadata": {
    "collapsed": false,
    "pycharm": {
     "name": "#%%\n"
    }
   }
  },
  {
   "cell_type": "code",
   "execution_count": null,
   "outputs": [],
   "source": [
    "test_list = [\n",
    "    '酒店设施不是新的，服务态度很不好',\n",
    "    '酒店卫生条件非常不好',\n",
    "    '床铺非常舒适',\n",
    "    '房间很凉，不给开暖气',\n",
    "    '房间很凉爽，空调冷气很足',\n",
    "    '酒店环境不好，住宿体验很不好',\n",
    "    '房间隔音不到位' ,\n",
    "    '晚上回来发现没有打扫卫生',\n",
    "    '因为过节所以要我临时加钱，比团购的价格贵'\n",
    "]\n",
    "for text in test_list:\n",
    "    predict_sentiment(text)"
   ],
   "metadata": {
    "collapsed": false,
    "pycharm": {
     "name": "#%%\n"
    }
   }
  },
  {
   "cell_type": "code",
   "execution_count": 82,
   "outputs": [],
   "source": [
    "y_pred = model.predict(X_test)\n",
    "y_pred = y_pred.T[0]\n",
    "y_pred = [1 if p>= 0.5 else 0 for p in y_pred]\n",
    "y_pred = np.array(y_pred)"
   ],
   "metadata": {
    "collapsed": false,
    "pycharm": {
     "name": "#%%\n"
    }
   }
  },
  {
   "cell_type": "code",
   "execution_count": 82,
   "outputs": [],
   "source": [
    "y_actual = np.array(y_test)"
   ],
   "metadata": {
    "collapsed": false,
    "pycharm": {
     "name": "#%%\n"
    }
   }
  },
  {
   "cell_type": "code",
   "execution_count": 82,
   "outputs": [],
   "source": [
    "misclassified = np.where( y_pred != y_actual )[0]"
   ],
   "metadata": {
    "collapsed": false,
    "pycharm": {
     "name": "#%%\n"
    }
   }
  },
  {
   "cell_type": "code",
   "execution_count": 82,
   "outputs": [],
   "source": [
    "len(misclassified)\n",
    "print(len(X_test))"
   ],
   "metadata": {
    "collapsed": false,
    "pycharm": {
     "name": "#%%\n"
    }
   }
  },
  {
   "cell_type": "code",
   "execution_count": 82,
   "outputs": [],
   "source": [
    "idx=101\n",
    "print(reverse_tokens(X_test[idx]))\n",
    "print('预测的分类', y_pred[idx])\n",
    "print('实际的分类', y_actual[idx])"
   ],
   "metadata": {
    "collapsed": false,
    "pycharm": {
     "name": "#%%\n"
    }
   }
  },
  {
   "cell_type": "code",
   "execution_count": 82,
   "outputs": [],
   "source": [
    "idx=1\n",
    "print(reverse_tokens(X_test[idx]))\n",
    "print('预测的分类', y_pred[idx])\n",
    "print('实际的分类', y_actual[idx])"
   ],
   "metadata": {
    "collapsed": false,
    "pycharm": {
     "name": "#%%\n"
    }
   }
  },
  {
   "cell_type": "code",
   "execution_count": null,
   "outputs": [],
   "source": [],
   "metadata": {
    "collapsed": false,
    "pycharm": {
     "name": "#%%\n"
    }
   }
  }
 ],
 "metadata": {
  "kernelspec": {
   "name": "cs224n",
   "language": "python",
   "display_name": "cs224n"
  },
  "language_info": {
   "codemirror_mode": {
    "name": "ipython",
    "version": 2
   },
   "file_extension": ".py",
   "mimetype": "text/x-python",
   "name": "python",
   "nbconvert_exporter": "python",
   "pygments_lexer": "ipython2",
   "version": "2.7.6"
  }
 },
 "nbformat": 4,
 "nbformat_minor": 0
}